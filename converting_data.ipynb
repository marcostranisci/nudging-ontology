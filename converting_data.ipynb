{
 "cells": [
  {
   "cell_type": "markdown",
   "metadata": {},
   "source": [
    "## aggregate stops related to census"
   ]
  },
  {
   "cell_type": "code",
   "execution_count": 2,
   "metadata": {},
   "outputs": [],
   "source": [
    "import pandas as pd\n",
    "\n",
    "# Load the CSV file\n",
    "file_path = '/Users/marco/Documents/unito/nudging-ontology/data/f3_distances500_.csv'\n",
    "data = pd.read_csv(file_path)\n",
    "\n",
    "# Group by 'cens' and 'year', compute the number of 'id_stop' and the average 'distance'\n",
    "result = data.groupby(['cens', 'year']).agg(\n",
    "    num_id_stop=('id_stop', 'count'),\n",
    "    avg_distance=('distance', 'mean')\n",
    ").reset_index()\n",
    "\n",
    "result.to_csv('data/f8_grouped_distances.csv', index=False)"
   ]
  },
  {
   "cell_type": "markdown",
   "metadata": {},
   "source": [
    "## text-to-template"
   ]
  },
  {
   "cell_type": "code",
   "execution_count": 3,
   "metadata": {},
   "outputs": [
    {
     "data": {
      "text/plain": [
       "'From 2012 to 2019 the population in Turin has decreased. Considering all the census, does this decrease affect all the demographics? Which category is more affected and which one is less affected?'"
      ]
     },
     "execution_count": 3,
     "metadata": {},
     "output_type": "execute_result"
    }
   ],
   "source": [
    "import json\n",
    "\n",
    "file = open('data/questions.json')\n",
    "questions = json.load(file)\n",
    "file.close()\n",
    "\n",
    "questions['1']"
   ]
  }
 ],
 "metadata": {
  "kernelspec": {
   "display_name": "talkingraph",
   "language": "python",
   "name": "python3"
  },
  "language_info": {
   "codemirror_mode": {
    "name": "ipython",
    "version": 3
   },
   "file_extension": ".py",
   "mimetype": "text/x-python",
   "name": "python",
   "nbconvert_exporter": "python",
   "pygments_lexer": "ipython3",
   "version": "3.13.2"
  }
 },
 "nbformat": 4,
 "nbformat_minor": 2
}
